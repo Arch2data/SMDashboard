{
 "cells": [
  {
   "cell_type": "code",
   "execution_count": 1,
   "id": "d3a739ea",
   "metadata": {},
   "outputs": [],
   "source": [
    "import pandas as pd\n",
    "import seaborn as sns\n",
    "\n",
    "from datetime import date"
   ]
  },
  {
   "cell_type": "code",
   "execution_count": 2,
   "id": "444be84e",
   "metadata": {},
   "outputs": [
    {
     "data": {
      "text/plain": [
       "(4998, 7)"
      ]
     },
     "execution_count": 2,
     "metadata": {},
     "output_type": "execute_result"
    }
   ],
   "source": [
    "df_ivv = pd.read_csv(\"./../data/ivv.csv\")\n",
    "df_ivv.shape"
   ]
  },
  {
   "cell_type": "code",
   "execution_count": 3,
   "id": "761b58eb",
   "metadata": {},
   "outputs": [
    {
     "name": "stdout",
     "output_type": "stream",
     "text": [
      "<class 'pandas.core.frame.DataFrame'>\n",
      "RangeIndex: 4998 entries, 0 to 4997\n",
      "Data columns (total 7 columns):\n",
      " #   Column     Non-Null Count  Dtype  \n",
      "---  ------     --------------  -----  \n",
      " 0   Date       4998 non-null   object \n",
      " 1   Open       4998 non-null   float64\n",
      " 2   High       4998 non-null   float64\n",
      " 3   Low        4998 non-null   float64\n",
      " 4   Close      4998 non-null   float64\n",
      " 5   Adj Close  4998 non-null   float64\n",
      " 6   Volume     4998 non-null   int64  \n",
      "dtypes: float64(5), int64(1), object(1)\n",
      "memory usage: 273.5+ KB\n"
     ]
    }
   ],
   "source": [
    "df_ivv.info()"
   ]
  },
  {
   "cell_type": "code",
   "execution_count": 4,
   "id": "af2bd493",
   "metadata": {},
   "outputs": [],
   "source": [
    "df_ivv[\"Date\"] = pd.to_datetime(df_ivv[\"Date\"])"
   ]
  },
  {
   "cell_type": "code",
   "execution_count": 5,
   "id": "c6d4fa47",
   "metadata": {},
   "outputs": [
    {
     "data": {
      "text/html": [
       "<div>\n",
       "<style scoped>\n",
       "    .dataframe tbody tr th:only-of-type {\n",
       "        vertical-align: middle;\n",
       "    }\n",
       "\n",
       "    .dataframe tbody tr th {\n",
       "        vertical-align: top;\n",
       "    }\n",
       "\n",
       "    .dataframe thead th {\n",
       "        text-align: right;\n",
       "    }\n",
       "</style>\n",
       "<table border=\"1\" class=\"dataframe\">\n",
       "  <thead>\n",
       "    <tr style=\"text-align: right;\">\n",
       "      <th></th>\n",
       "      <th>Date</th>\n",
       "      <th>Open</th>\n",
       "      <th>High</th>\n",
       "      <th>Low</th>\n",
       "      <th>Close</th>\n",
       "      <th>Adj Close</th>\n",
       "      <th>Volume</th>\n",
       "    </tr>\n",
       "  </thead>\n",
       "  <tbody>\n",
       "    <tr>\n",
       "      <th>0</th>\n",
       "      <td>2000-05-19</td>\n",
       "      <td>142.656250</td>\n",
       "      <td>142.656250</td>\n",
       "      <td>140.250000</td>\n",
       "      <td>140.687500</td>\n",
       "      <td>96.106430</td>\n",
       "      <td>775500</td>\n",
       "    </tr>\n",
       "    <tr>\n",
       "      <th>1</th>\n",
       "      <td>2000-05-22</td>\n",
       "      <td>140.593750</td>\n",
       "      <td>140.593750</td>\n",
       "      <td>136.812500</td>\n",
       "      <td>139.812500</td>\n",
       "      <td>95.508751</td>\n",
       "      <td>1850600</td>\n",
       "    </tr>\n",
       "    <tr>\n",
       "      <th>2</th>\n",
       "      <td>2000-05-23</td>\n",
       "      <td>140.218750</td>\n",
       "      <td>140.218750</td>\n",
       "      <td>137.687500</td>\n",
       "      <td>137.687500</td>\n",
       "      <td>94.057098</td>\n",
       "      <td>373900</td>\n",
       "    </tr>\n",
       "    <tr>\n",
       "      <th>3</th>\n",
       "      <td>2000-05-24</td>\n",
       "      <td>137.750000</td>\n",
       "      <td>140.062500</td>\n",
       "      <td>136.656250</td>\n",
       "      <td>139.750000</td>\n",
       "      <td>95.466019</td>\n",
       "      <td>400300</td>\n",
       "    </tr>\n",
       "    <tr>\n",
       "      <th>4</th>\n",
       "      <td>2000-05-25</td>\n",
       "      <td>140.031250</td>\n",
       "      <td>140.937500</td>\n",
       "      <td>137.875000</td>\n",
       "      <td>138.468750</td>\n",
       "      <td>94.590782</td>\n",
       "      <td>69600</td>\n",
       "    </tr>\n",
       "    <tr>\n",
       "      <th>...</th>\n",
       "      <td>...</td>\n",
       "      <td>...</td>\n",
       "      <td>...</td>\n",
       "      <td>...</td>\n",
       "      <td>...</td>\n",
       "      <td>...</td>\n",
       "      <td>...</td>\n",
       "    </tr>\n",
       "    <tr>\n",
       "      <th>4993</th>\n",
       "      <td>2020-03-26</td>\n",
       "      <td>250.330002</td>\n",
       "      <td>263.630005</td>\n",
       "      <td>249.899994</td>\n",
       "      <td>262.369995</td>\n",
       "      <td>262.369995</td>\n",
       "      <td>15886800</td>\n",
       "    </tr>\n",
       "    <tr>\n",
       "      <th>4994</th>\n",
       "      <td>2020-03-27</td>\n",
       "      <td>254.000000</td>\n",
       "      <td>261.630005</td>\n",
       "      <td>251.779999</td>\n",
       "      <td>254.240005</td>\n",
       "      <td>254.240005</td>\n",
       "      <td>9514700</td>\n",
       "    </tr>\n",
       "    <tr>\n",
       "      <th>4995</th>\n",
       "      <td>2020-03-30</td>\n",
       "      <td>256.529999</td>\n",
       "      <td>263.200012</td>\n",
       "      <td>254.369995</td>\n",
       "      <td>262.359985</td>\n",
       "      <td>262.359985</td>\n",
       "      <td>9539800</td>\n",
       "    </tr>\n",
       "    <tr>\n",
       "      <th>4996</th>\n",
       "      <td>2020-03-31</td>\n",
       "      <td>261.399994</td>\n",
       "      <td>264.100006</td>\n",
       "      <td>257.000000</td>\n",
       "      <td>258.399994</td>\n",
       "      <td>258.399994</td>\n",
       "      <td>9561000</td>\n",
       "    </tr>\n",
       "    <tr>\n",
       "      <th>4997</th>\n",
       "      <td>2020-04-01</td>\n",
       "      <td>248.759995</td>\n",
       "      <td>252.220001</td>\n",
       "      <td>244.619995</td>\n",
       "      <td>246.800003</td>\n",
       "      <td>246.800003</td>\n",
       "      <td>13663600</td>\n",
       "    </tr>\n",
       "  </tbody>\n",
       "</table>\n",
       "<p>4998 rows × 7 columns</p>\n",
       "</div>"
      ],
      "text/plain": [
       "           Date        Open        High         Low       Close   Adj Close  \\\n",
       "0    2000-05-19  142.656250  142.656250  140.250000  140.687500   96.106430   \n",
       "1    2000-05-22  140.593750  140.593750  136.812500  139.812500   95.508751   \n",
       "2    2000-05-23  140.218750  140.218750  137.687500  137.687500   94.057098   \n",
       "3    2000-05-24  137.750000  140.062500  136.656250  139.750000   95.466019   \n",
       "4    2000-05-25  140.031250  140.937500  137.875000  138.468750   94.590782   \n",
       "...         ...         ...         ...         ...         ...         ...   \n",
       "4993 2020-03-26  250.330002  263.630005  249.899994  262.369995  262.369995   \n",
       "4994 2020-03-27  254.000000  261.630005  251.779999  254.240005  254.240005   \n",
       "4995 2020-03-30  256.529999  263.200012  254.369995  262.359985  262.359985   \n",
       "4996 2020-03-31  261.399994  264.100006  257.000000  258.399994  258.399994   \n",
       "4997 2020-04-01  248.759995  252.220001  244.619995  246.800003  246.800003   \n",
       "\n",
       "        Volume  \n",
       "0       775500  \n",
       "1      1850600  \n",
       "2       373900  \n",
       "3       400300  \n",
       "4        69600  \n",
       "...        ...  \n",
       "4993  15886800  \n",
       "4994   9514700  \n",
       "4995   9539800  \n",
       "4996   9561000  \n",
       "4997  13663600  \n",
       "\n",
       "[4998 rows x 7 columns]"
      ]
     },
     "execution_count": 5,
     "metadata": {},
     "output_type": "execute_result"
    }
   ],
   "source": [
    "df_ivv"
   ]
  },
  {
   "cell_type": "code",
   "execution_count": 6,
   "id": "5bdf13d8",
   "metadata": {},
   "outputs": [
    {
     "data": {
      "text/plain": [
       "Timestamp('2020-04-01 00:00:00')"
      ]
     },
     "execution_count": 6,
     "metadata": {},
     "output_type": "execute_result"
    }
   ],
   "source": [
    "df_ivv.iloc[-1][\"Date\"]"
   ]
  },
  {
   "cell_type": "code",
   "execution_count": 7,
   "id": "1b7c08c9",
   "metadata": {},
   "outputs": [
    {
     "name": "stdout",
     "output_type": "stream",
     "text": [
      "<class 'pandas.core.frame.DataFrame'>\n",
      "RangeIndex: 4998 entries, 0 to 4997\n",
      "Data columns (total 7 columns):\n",
      " #   Column     Non-Null Count  Dtype         \n",
      "---  ------     --------------  -----         \n",
      " 0   Date       4998 non-null   datetime64[ns]\n",
      " 1   Open       4998 non-null   float64       \n",
      " 2   High       4998 non-null   float64       \n",
      " 3   Low        4998 non-null   float64       \n",
      " 4   Close      4998 non-null   float64       \n",
      " 5   Adj Close  4998 non-null   float64       \n",
      " 6   Volume     4998 non-null   int64         \n",
      "dtypes: datetime64[ns](1), float64(5), int64(1)\n",
      "memory usage: 273.5 KB\n"
     ]
    }
   ],
   "source": [
    "df_ivv.info()"
   ]
  },
  {
   "cell_type": "code",
   "execution_count": 14,
   "id": "61bf6dd0",
   "metadata": {},
   "outputs": [],
   "source": [
    "# Returns the current local date\n",
    "last_date = df_ivv.iloc[-1][\"Date\"]\n",
    "one_month = (last_date - pd.DateOffset(months=5))"
   ]
  },
  {
   "cell_type": "code",
   "execution_count": 15,
   "id": "d0857dcd",
   "metadata": {},
   "outputs": [
    {
     "data": {
      "text/plain": [
       "(Timestamp('2020-04-01 00:00:00'), Timestamp('2019-11-01 00:00:00'))"
      ]
     },
     "execution_count": 15,
     "metadata": {},
     "output_type": "execute_result"
    }
   ],
   "source": [
    "last_date, one_month"
   ]
  },
  {
   "cell_type": "code",
   "execution_count": 16,
   "id": "87b5ea29",
   "metadata": {},
   "outputs": [
    {
     "data": {
      "text/html": [
       "<div>\n",
       "<style scoped>\n",
       "    .dataframe tbody tr th:only-of-type {\n",
       "        vertical-align: middle;\n",
       "    }\n",
       "\n",
       "    .dataframe tbody tr th {\n",
       "        vertical-align: top;\n",
       "    }\n",
       "\n",
       "    .dataframe thead th {\n",
       "        text-align: right;\n",
       "    }\n",
       "</style>\n",
       "<table border=\"1\" class=\"dataframe\">\n",
       "  <thead>\n",
       "    <tr style=\"text-align: right;\">\n",
       "      <th></th>\n",
       "      <th>Date</th>\n",
       "      <th>Open</th>\n",
       "      <th>High</th>\n",
       "      <th>Low</th>\n",
       "      <th>Close</th>\n",
       "      <th>Adj Close</th>\n",
       "      <th>Volume</th>\n",
       "      <th>Year</th>\n",
       "      <th>Month</th>\n",
       "    </tr>\n",
       "  </thead>\n",
       "  <tbody>\n",
       "    <tr>\n",
       "      <th>0</th>\n",
       "      <td>2000-05-19</td>\n",
       "      <td>142.656250</td>\n",
       "      <td>142.656250</td>\n",
       "      <td>140.250000</td>\n",
       "      <td>140.687500</td>\n",
       "      <td>96.106430</td>\n",
       "      <td>775500</td>\n",
       "      <td>2000</td>\n",
       "      <td>5</td>\n",
       "    </tr>\n",
       "    <tr>\n",
       "      <th>1</th>\n",
       "      <td>2000-05-22</td>\n",
       "      <td>140.593750</td>\n",
       "      <td>140.593750</td>\n",
       "      <td>136.812500</td>\n",
       "      <td>139.812500</td>\n",
       "      <td>95.508751</td>\n",
       "      <td>1850600</td>\n",
       "      <td>2000</td>\n",
       "      <td>5</td>\n",
       "    </tr>\n",
       "    <tr>\n",
       "      <th>2</th>\n",
       "      <td>2000-05-23</td>\n",
       "      <td>140.218750</td>\n",
       "      <td>140.218750</td>\n",
       "      <td>137.687500</td>\n",
       "      <td>137.687500</td>\n",
       "      <td>94.057098</td>\n",
       "      <td>373900</td>\n",
       "      <td>2000</td>\n",
       "      <td>5</td>\n",
       "    </tr>\n",
       "    <tr>\n",
       "      <th>3</th>\n",
       "      <td>2000-05-24</td>\n",
       "      <td>137.750000</td>\n",
       "      <td>140.062500</td>\n",
       "      <td>136.656250</td>\n",
       "      <td>139.750000</td>\n",
       "      <td>95.466019</td>\n",
       "      <td>400300</td>\n",
       "      <td>2000</td>\n",
       "      <td>5</td>\n",
       "    </tr>\n",
       "    <tr>\n",
       "      <th>4</th>\n",
       "      <td>2000-05-25</td>\n",
       "      <td>140.031250</td>\n",
       "      <td>140.937500</td>\n",
       "      <td>137.875000</td>\n",
       "      <td>138.468750</td>\n",
       "      <td>94.590782</td>\n",
       "      <td>69600</td>\n",
       "      <td>2000</td>\n",
       "      <td>5</td>\n",
       "    </tr>\n",
       "    <tr>\n",
       "      <th>...</th>\n",
       "      <td>...</td>\n",
       "      <td>...</td>\n",
       "      <td>...</td>\n",
       "      <td>...</td>\n",
       "      <td>...</td>\n",
       "      <td>...</td>\n",
       "      <td>...</td>\n",
       "      <td>...</td>\n",
       "      <td>...</td>\n",
       "    </tr>\n",
       "    <tr>\n",
       "      <th>4993</th>\n",
       "      <td>2020-03-26</td>\n",
       "      <td>250.330002</td>\n",
       "      <td>263.630005</td>\n",
       "      <td>249.899994</td>\n",
       "      <td>262.369995</td>\n",
       "      <td>262.369995</td>\n",
       "      <td>15886800</td>\n",
       "      <td>2020</td>\n",
       "      <td>3</td>\n",
       "    </tr>\n",
       "    <tr>\n",
       "      <th>4994</th>\n",
       "      <td>2020-03-27</td>\n",
       "      <td>254.000000</td>\n",
       "      <td>261.630005</td>\n",
       "      <td>251.779999</td>\n",
       "      <td>254.240005</td>\n",
       "      <td>254.240005</td>\n",
       "      <td>9514700</td>\n",
       "      <td>2020</td>\n",
       "      <td>3</td>\n",
       "    </tr>\n",
       "    <tr>\n",
       "      <th>4995</th>\n",
       "      <td>2020-03-30</td>\n",
       "      <td>256.529999</td>\n",
       "      <td>263.200012</td>\n",
       "      <td>254.369995</td>\n",
       "      <td>262.359985</td>\n",
       "      <td>262.359985</td>\n",
       "      <td>9539800</td>\n",
       "      <td>2020</td>\n",
       "      <td>3</td>\n",
       "    </tr>\n",
       "    <tr>\n",
       "      <th>4996</th>\n",
       "      <td>2020-03-31</td>\n",
       "      <td>261.399994</td>\n",
       "      <td>264.100006</td>\n",
       "      <td>257.000000</td>\n",
       "      <td>258.399994</td>\n",
       "      <td>258.399994</td>\n",
       "      <td>9561000</td>\n",
       "      <td>2020</td>\n",
       "      <td>3</td>\n",
       "    </tr>\n",
       "    <tr>\n",
       "      <th>4997</th>\n",
       "      <td>2020-04-01</td>\n",
       "      <td>248.759995</td>\n",
       "      <td>252.220001</td>\n",
       "      <td>244.619995</td>\n",
       "      <td>246.800003</td>\n",
       "      <td>246.800003</td>\n",
       "      <td>13663600</td>\n",
       "      <td>2020</td>\n",
       "      <td>4</td>\n",
       "    </tr>\n",
       "  </tbody>\n",
       "</table>\n",
       "<p>4998 rows × 9 columns</p>\n",
       "</div>"
      ],
      "text/plain": [
       "           Date        Open        High         Low       Close   Adj Close  \\\n",
       "0    2000-05-19  142.656250  142.656250  140.250000  140.687500   96.106430   \n",
       "1    2000-05-22  140.593750  140.593750  136.812500  139.812500   95.508751   \n",
       "2    2000-05-23  140.218750  140.218750  137.687500  137.687500   94.057098   \n",
       "3    2000-05-24  137.750000  140.062500  136.656250  139.750000   95.466019   \n",
       "4    2000-05-25  140.031250  140.937500  137.875000  138.468750   94.590782   \n",
       "...         ...         ...         ...         ...         ...         ...   \n",
       "4993 2020-03-26  250.330002  263.630005  249.899994  262.369995  262.369995   \n",
       "4994 2020-03-27  254.000000  261.630005  251.779999  254.240005  254.240005   \n",
       "4995 2020-03-30  256.529999  263.200012  254.369995  262.359985  262.359985   \n",
       "4996 2020-03-31  261.399994  264.100006  257.000000  258.399994  258.399994   \n",
       "4997 2020-04-01  248.759995  252.220001  244.619995  246.800003  246.800003   \n",
       "\n",
       "        Volume  Year  Month  \n",
       "0       775500  2000      5  \n",
       "1      1850600  2000      5  \n",
       "2       373900  2000      5  \n",
       "3       400300  2000      5  \n",
       "4        69600  2000      5  \n",
       "...        ...   ...    ...  \n",
       "4993  15886800  2020      3  \n",
       "4994   9514700  2020      3  \n",
       "4995   9539800  2020      3  \n",
       "4996   9561000  2020      3  \n",
       "4997  13663600  2020      4  \n",
       "\n",
       "[4998 rows x 9 columns]"
      ]
     },
     "execution_count": 16,
     "metadata": {},
     "output_type": "execute_result"
    }
   ],
   "source": [
    "df_ivv"
   ]
  },
  {
   "cell_type": "markdown",
   "id": "383ee31b",
   "metadata": {},
   "source": [
    "# A month from last date"
   ]
  },
  {
   "cell_type": "code",
   "execution_count": 17,
   "id": "9beda1e4",
   "metadata": {},
   "outputs": [
    {
     "data": {
      "text/plain": [
       "(104, 9)"
      ]
     },
     "execution_count": 17,
     "metadata": {},
     "output_type": "execute_result"
    }
   ],
   "source": [
    "df_ivv_om = df_ivv[df_ivv[\"Date\"] >= one_month]\n",
    "df_ivv_om.shape"
   ]
  },
  {
   "cell_type": "code",
   "execution_count": 18,
   "id": "2f274b21",
   "metadata": {},
   "outputs": [
    {
     "data": {
      "text/plain": [
       "<Axes: xlabel='Date', ylabel='Low'>"
      ]
     },
     "execution_count": 18,
     "metadata": {},
     "output_type": "execute_result"
    },
    {
     "data": {
      "image/png": "[encoded data removed]",
      "text/plain": [
       "<Figure size 640x480 with 1 Axes>"
      ]
     },
     "metadata": {},
     "output_type": "display_data"
    }
   ],
   "source": [
    "# Plot the responses for different events and regions\n",
    "sns.lineplot(x=\"Date\", y=\"Low\", data=df_ivv_om, color = \"blue\")\n",
    "sns.lineplot(x=\"Date\", y=\"High\", data=df_ivv_om, color = \"green\")"
   ]
  },
  {
   "cell_type": "code",
   "execution_count": 13,
   "id": "d196c740",
   "metadata": {},
   "outputs": [
    {
     "name": "stdout",
     "output_type": "stream",
     "text": [
      "<class 'pandas.core.frame.DataFrame'>\n",
      "RangeIndex: 4998 entries, 0 to 4997\n",
      "Data columns (total 9 columns):\n",
      " #   Column     Non-Null Count  Dtype         \n",
      "---  ------     --------------  -----         \n",
      " 0   Date       4998 non-null   datetime64[ns]\n",
      " 1   Open       4998 non-null   float64       \n",
      " 2   High       4998 non-null   float64       \n",
      " 3   Low        4998 non-null   float64       \n",
      " 4   Close      4998 non-null   float64       \n",
      " 5   Adj Close  4998 non-null   float64       \n",
      " 6   Volume     4998 non-null   int64         \n",
      " 7   Year       4998 non-null   int64         \n",
      " 8   Month      4998 non-null   int64         \n",
      "dtypes: datetime64[ns](1), float64(5), int64(3)\n",
      "memory usage: 351.6 KB\n"
     ]
    }
   ],
   "source": [
    "\n",
    "# df_ivv[\"Year\"] = df_ivv[\"Date\"].dt.year\n",
    "# df_ivv[\"Month\"] = df_ivv[\"Date\"].dt.month\n",
    "# df_ivv.info()"
   ]
  },
  {
   "cell_type": "code",
   "execution_count": null,
   "id": "de4851bd",
   "metadata": {},
   "outputs": [],
   "source": []
  },
  {
   "cell_type": "code",
   "execution_count": null,
   "id": "97c79986",
   "metadata": {},
   "outputs": [],
   "source": []
  }
 ],
 "metadata": {
  "kernelspec": {
   "display_name": "Python 3 (ipykernel)",
   "language": "python",
   "name": "python3"
  },
  "language_info": {
   "codemirror_mode": {
    "name": "ipython",
    "version": 3
   },
   "file_extension": ".py",
   "mimetype": "text/x-python",
   "name": "python",
   "nbconvert_exporter": "python",
   "pygments_lexer": "ipython3",
   "version": "3.11.3"
  }
 },
 "nbformat": 4,
 "nbformat_minor": 5
}
