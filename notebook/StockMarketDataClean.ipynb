{
 "cells": [
  {
   "cell_type": "code",
   "execution_count": 1,
   "id": "4b74bd8d",
   "metadata": {},
   "outputs": [],
   "source": [
    "import pandas as pd"
   ]
  },
  {
   "cell_type": "code",
   "execution_count": 4,
   "id": "bfebba0a",
   "metadata": {},
   "outputs": [
    {
     "data": {
      "text/plain": [
       "(4998, 7)"
      ]
     },
     "execution_count": 4,
     "metadata": {},
     "output_type": "execute_result"
    }
   ],
   "source": [
    "df_ivv = pd.read_csv(\"./../data/ivv.csv\")\n",
    "df_ivv.shape"
   ]
  },
  {
   "cell_type": "code",
   "execution_count": 11,
   "id": "37f7d20e",
   "metadata": {},
   "outputs": [
    {
     "name": "stdout",
     "output_type": "stream",
     "text": [
      "<class 'pandas.core.frame.DataFrame'>\n",
      "RangeIndex: 4998 entries, 0 to 4997\n",
      "Data columns (total 7 columns):\n",
      " #   Column     Non-Null Count  Dtype  \n",
      "---  ------     --------------  -----  \n",
      " 0   Date       4998 non-null   object \n",
      " 1   Open       4998 non-null   float64\n",
      " 2   High       4998 non-null   float64\n",
      " 3   Low        4998 non-null   float64\n",
      " 4   Close      4998 non-null   float64\n",
      " 5   Adj Close  4998 non-null   float64\n",
      " 6   Volume     4998 non-null   int64  \n",
      "dtypes: float64(5), int64(1), object(1)\n",
      "memory usage: 273.5+ KB\n"
     ]
    }
   ],
   "source": [
    "df_ivv.info()"
   ]
  },
  {
   "cell_type": "markdown",
   "id": "efc90b9b",
   "metadata": {},
   "source": [
    "# Data Preprocessing"
   ]
  },
  {
   "cell_type": "code",
   "execution_count": 13,
   "id": "db8bd0ce",
   "metadata": {},
   "outputs": [],
   "source": [
    "df_ivv[\"Date\"] = pd.to_datetime(df_ivv[\"Date\"])"
   ]
  },
  {
   "cell_type": "code",
   "execution_count": 15,
   "id": "0aaeee22",
   "metadata": {},
   "outputs": [],
   "source": [
    "df_ivv[\"Year\"] = df_ivv[\"Date\"].dt.year\n",
    "df_ivv[\"Month\"] = df_ivv[\"Date\"].dt.month"
   ]
  },
  {
   "cell_type": "code",
   "execution_count": 16,
   "id": "73372de5",
   "metadata": {},
   "outputs": [
    {
     "name": "stdout",
     "output_type": "stream",
     "text": [
      "<class 'pandas.core.frame.DataFrame'>\n",
      "RangeIndex: 4998 entries, 0 to 4997\n",
      "Data columns (total 9 columns):\n",
      " #   Column     Non-Null Count  Dtype         \n",
      "---  ------     --------------  -----         \n",
      " 0   Date       4998 non-null   datetime64[ns]\n",
      " 1   Open       4998 non-null   float64       \n",
      " 2   High       4998 non-null   float64       \n",
      " 3   Low        4998 non-null   float64       \n",
      " 4   Close      4998 non-null   float64       \n",
      " 5   Adj Close  4998 non-null   float64       \n",
      " 6   Volume     4998 non-null   int64         \n",
      " 7   Year       4998 non-null   int64         \n",
      " 8   Month      4998 non-null   int64         \n",
      "dtypes: datetime64[ns](1), float64(5), int64(3)\n",
      "memory usage: 351.6 KB\n"
     ]
    }
   ],
   "source": [
    "df_ivv.info()"
   ]
  },
  {
   "cell_type": "code",
   "execution_count": 17,
   "id": "e2065f89",
   "metadata": {},
   "outputs": [
    {
     "data": {
      "text/html": [
       "<div>\n",
       "<style scoped>\n",
       "    .dataframe tbody tr th:only-of-type {\n",
       "        vertical-align: middle;\n",
       "    }\n",
       "\n",
       "    .dataframe tbody tr th {\n",
       "        vertical-align: top;\n",
       "    }\n",
       "\n",
       "    .dataframe thead th {\n",
       "        text-align: right;\n",
       "    }\n",
       "</style>\n",
       "<table border=\"1\" class=\"dataframe\">\n",
       "  <thead>\n",
       "    <tr style=\"text-align: right;\">\n",
       "      <th></th>\n",
       "      <th>Date</th>\n",
       "      <th>Open</th>\n",
       "      <th>High</th>\n",
       "      <th>Low</th>\n",
       "      <th>Close</th>\n",
       "      <th>Adj Close</th>\n",
       "      <th>Volume</th>\n",
       "      <th>Year</th>\n",
       "      <th>Month</th>\n",
       "    </tr>\n",
       "  </thead>\n",
       "  <tbody>\n",
       "    <tr>\n",
       "      <th>0</th>\n",
       "      <td>2000-05-19</td>\n",
       "      <td>142.65625</td>\n",
       "      <td>142.65625</td>\n",
       "      <td>140.2500</td>\n",
       "      <td>140.6875</td>\n",
       "      <td>96.106430</td>\n",
       "      <td>775500</td>\n",
       "      <td>2000</td>\n",
       "      <td>5</td>\n",
       "    </tr>\n",
       "    <tr>\n",
       "      <th>1</th>\n",
       "      <td>2000-05-22</td>\n",
       "      <td>140.59375</td>\n",
       "      <td>140.59375</td>\n",
       "      <td>136.8125</td>\n",
       "      <td>139.8125</td>\n",
       "      <td>95.508751</td>\n",
       "      <td>1850600</td>\n",
       "      <td>2000</td>\n",
       "      <td>5</td>\n",
       "    </tr>\n",
       "  </tbody>\n",
       "</table>\n",
       "</div>"
      ],
      "text/plain": [
       "        Date       Open       High       Low     Close  Adj Close   Volume  \\\n",
       "0 2000-05-19  142.65625  142.65625  140.2500  140.6875  96.106430   775500   \n",
       "1 2000-05-22  140.59375  140.59375  136.8125  139.8125  95.508751  1850600   \n",
       "\n",
       "   Year  Month  \n",
       "0  2000      5  \n",
       "1  2000      5  "
      ]
     },
     "execution_count": 17,
     "metadata": {},
     "output_type": "execute_result"
    }
   ],
   "source": [
    "df_ivv.head(2)"
   ]
  },
  {
   "cell_type": "markdown",
   "id": "18992fbb",
   "metadata": {},
   "source": [
    "# Stock pricing chart "
   ]
  },
  {
   "cell_type": "code",
   "execution_count": 20,
   "id": "ebee5c15",
   "metadata": {},
   "outputs": [
    {
     "data": {
      "text/plain": [
       "<Axes: xlabel='Date', ylabel='Close'>"
      ]
     },
     "execution_count": 20,
     "metadata": {},
     "output_type": "execute_result"
    },
    {
     "data": {
      "image/png": "[encoded data removed]",
      "text/plain": [
       "<Figure size 640x480 with 1 Axes>"
      ]
     },
     "metadata": {},
     "output_type": "display_data"
    }
   ],
   "source": [
    "import seaborn as sns\n",
    "sns.set_theme(style=\"darkgrid\")\n",
    "\n",
    "# Load an example dataset with long-form data\n",
    "fmri = sns.load_dataset(\"fmri\")\n",
    "\n",
    "# Plot the responses for different events and regions\n",
    "sns.lineplot(x=\"Date\", y=\"Close\", data=df_ivv)"
   ]
  },
  {
   "cell_type": "code",
   "execution_count": null,
   "id": "3c917207",
   "metadata": {},
   "outputs": [],
   "source": []
  }
 ],
 "metadata": {
  "kernelspec": {
   "display_name": "Python 3 (ipykernel)",
   "language": "python",
   "name": "python3"
  },
  "language_info": {
   "codemirror_mode": {
    "name": "ipython",
    "version": 3
   },
   "file_extension": ".py",
   "mimetype": "text/x-python",
   "name": "python",
   "nbconvert_exporter": "python",
   "pygments_lexer": "ipython3",
   "version": "3.11.3"
  }
 },
 "nbformat": 4,
 "nbformat_minor": 5
}
